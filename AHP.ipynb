{
 "cells": [
  {
   "cell_type": "code",
   "execution_count": 1,
   "metadata": {},
   "outputs": [],
   "source": [
    "# 필요한 라이브러리\n",
    "import pandas as pd\n",
    "import numpy as np\n",
    "import matplotlib.pyplot as plt\n",
    "import seaborn as sns\n",
    "import matplotlib.font_manager as fm\n",
    "from scipy.linalg import eig"
   ]
  },
  {
   "cell_type": "code",
   "execution_count": 2,
   "metadata": {},
   "outputs": [],
   "source": [
    "# 한글 폰트 설정\n",
    "font_path = 'C:/Windows/Fonts/malgun.ttf'\n",
    "fontprop = fm.FontProperties(fname=font_path)\n",
    "\n",
    "plt.rc('font', family=fontprop.get_name())\n",
    "\n",
    "# Unicode 마이너스 설정\n",
    "plt.rcParams['axes.unicode_minus'] = False"
   ]
  },
  {
   "cell_type": "markdown",
   "metadata": {},
   "source": [
    "# 1. 쌍대 비교 행렬 생성"
   ]
  },
  {
   "cell_type": "code",
   "execution_count": 6,
   "metadata": {},
   "outputs": [],
   "source": [
    "pairwise_matrix = np.array([\n",
    "    [1, 38.89/22.22, 38.89/38.89],  # Average Freight vs others\n",
    "    [22.22/38.89, 1, 22.22/38.89],  # Average Delivery Time vs others\n",
    "    [38.89/38.89, 38.89/22.22, 1]   # Order Volume vs others\n",
    "])\n",
    "\n",
    "# 요인명\n",
    "factors = ['average_freight', 'average_delivery_time', 'order_volume']"
   ]
  },
  {
   "cell_type": "markdown",
   "metadata": {},
   "source": [
    "# 2. 고유벡터 (중요도, 가중치) 계산"
   ]
  },
  {
   "cell_type": "code",
   "execution_count": 7,
   "metadata": {},
   "outputs": [],
   "source": [
    "# 각 행을 합계로 나누어 정규화 (각 열의 비율의 합계가 1이 되도록)\n",
    "sum_columns = pairwise_matrix.sum(axis=0)\n",
    "normalized_matrix = pairwise_matrix / sum_columns\n",
    "\n",
    "# 각 행의 평균을 계산하여 중요도 도출\n",
    "weights = normalized_matrix.mean(axis=1)"
   ]
  },
  {
   "cell_type": "markdown",
   "metadata": {},
   "source": [
    "# 3. 일관성 비율(CR) 계산 및 일관성 판단"
   ]
  },
  {
   "cell_type": "code",
   "execution_count": 8,
   "metadata": {},
   "outputs": [
    {
     "name": "stdout",
     "output_type": "stream",
     "text": [
      "요인별 가중치:\n",
      "average_freight: 0.3889\n",
      "average_delivery_time: 0.2222\n",
      "order_volume: 0.3889\n",
      "\n",
      " 일관성 비율 CR = 0.0000: 일관성 있음.\n"
     ]
    }
   ],
   "source": [
    "# 최대 고유값 계산\n",
    "lambda_max = np.dot(sum_columns, weights)\n",
    "\n",
    "# 일관성 지수(CI) 계산\n",
    "n = pairwise_matrix.shape[0]\n",
    "ci = (lambda_max - n) / (n - 1)\n",
    "\n",
    "# 무작위 지수(RI) 값 (n=3인 경우 약 0.58)\n",
    "ri = 0.58\n",
    "\n",
    "# 일관성 비율(CR) 계산\n",
    "cr = ci / ri\n",
    "\n",
    "# 일관성 체크\n",
    "if cr < 0.1:\n",
    "    consistency_message = f\"일관성 비율 CR = {cr:.4f}: 일관성 있음.\"\n",
    "else:\n",
    "    consistency_message = f\"일관성 비율 CR = {cr:.4f}: 일관성 부족. 재검토 필요.\"\n",
    "\n",
    "# 결과 출력 (가중치와 일관성 체크 결과)\n",
    "print(\"요인별 가중치:\")\n",
    "for factor, weight in zip(factors, weights):\n",
    "    print(f\"{factor}: {weight:.4f}\")\n",
    "\n",
    "print(\"\\n\", consistency_message)"
   ]
  },
  {
   "cell_type": "markdown",
   "metadata": {},
   "source": [
    "# 4. 가중치 기반 점수 산출"
   ]
  },
  {
   "cell_type": "code",
   "execution_count": 10,
   "metadata": {},
   "outputs": [
    {
     "data": {
      "text/html": [
       "<div>\n",
       "<style scoped>\n",
       "    .dataframe tbody tr th:only-of-type {\n",
       "        vertical-align: middle;\n",
       "    }\n",
       "\n",
       "    .dataframe tbody tr th {\n",
       "        vertical-align: top;\n",
       "    }\n",
       "\n",
       "    .dataframe thead th {\n",
       "        text-align: right;\n",
       "    }\n",
       "</style>\n",
       "<table border=\"1\" class=\"dataframe\">\n",
       "  <thead>\n",
       "    <tr style=\"text-align: right;\">\n",
       "      <th></th>\n",
       "      <th>state</th>\n",
       "      <th>Score</th>\n",
       "      <th>Rank</th>\n",
       "    </tr>\n",
       "  </thead>\n",
       "  <tbody>\n",
       "    <tr>\n",
       "      <th>0</th>\n",
       "      <td>SP</td>\n",
       "      <td>0.713316</td>\n",
       "      <td>1.0</td>\n",
       "    </tr>\n",
       "    <tr>\n",
       "      <th>3</th>\n",
       "      <td>BA</td>\n",
       "      <td>0.649230</td>\n",
       "      <td>2.0</td>\n",
       "    </tr>\n",
       "    <tr>\n",
       "      <th>1</th>\n",
       "      <td>RJ</td>\n",
       "      <td>0.621697</td>\n",
       "      <td>3.0</td>\n",
       "    </tr>\n",
       "    <tr>\n",
       "      <th>2</th>\n",
       "      <td>MG</td>\n",
       "      <td>0.560875</td>\n",
       "      <td>4.0</td>\n",
       "    </tr>\n",
       "    <tr>\n",
       "      <th>4</th>\n",
       "      <td>RS</td>\n",
       "      <td>0.552231</td>\n",
       "      <td>5.0</td>\n",
       "    </tr>\n",
       "    <tr>\n",
       "      <th>6</th>\n",
       "      <td>SC</td>\n",
       "      <td>0.528444</td>\n",
       "      <td>6.0</td>\n",
       "    </tr>\n",
       "    <tr>\n",
       "      <th>5</th>\n",
       "      <td>PR</td>\n",
       "      <td>0.491530</td>\n",
       "      <td>7.0</td>\n",
       "    </tr>\n",
       "  </tbody>\n",
       "</table>\n",
       "</div>"
      ],
      "text/plain": [
       "  state     Score  Rank\n",
       "0    SP  0.713316   1.0\n",
       "3    BA  0.649230   2.0\n",
       "1    RJ  0.621697   3.0\n",
       "2    MG  0.560875   4.0\n",
       "4    RS  0.552231   5.0\n",
       "6    SC  0.528444   6.0\n",
       "5    PR  0.491530   7.0"
      ]
     },
     "execution_count": 10,
     "metadata": {},
     "output_type": "execute_result"
    }
   ],
   "source": [
    "# Olist 데이터 생성 (총 매출에서 차지하는 비율이 5% 미만인 주 제외)\n",
    "data = {\n",
    "    'state': ['SP', 'RJ', 'MG', 'BA', 'RS', 'PR', 'SC'],\n",
    "    'average_freight': [15.15, 20.95, 20.62, 26.35, 21.70, 20.52, 21.50],\n",
    "    'average_delivery_time': [210.3, 367.4, 288.0, 463.5, 367.2, 287.3, 358.9],\n",
    "    'order_volume': [5161905, 1809997, 1572574, 506107, 742311, 676198, 518578]\n",
    "}\n",
    "\n",
    "df = pd.DataFrame(data)\n",
    "\n",
    "# 요인 값 정규화\n",
    "df['Normalized Freight'] = df['average_freight'] / df['average_freight'].max()\n",
    "df['Normalized Delivery Time'] = df['average_delivery_time'] / df['average_delivery_time'].max()\n",
    "df['Normalized Order Volume'] = df['order_volume'] / df['order_volume'].max()\n",
    "\n",
    "# 가중치를 적용한 종합 점수 계산 (weights는 배열 =>인덱스로 접근)\n",
    "df['Score'] = (\n",
    "    weights[0] * df['Normalized Freight'] +\n",
    "    weights[1] * df['Normalized Delivery Time'] +\n",
    "    weights[2] * df['Normalized Order Volume']\n",
    ")\n",
    "\n",
    "# 가장 높은 점수를 받은 주를 순위별로 정렬하여 출력\n",
    "df['Rank'] = df['Score'].rank(ascending=False)\n",
    "\n",
    "# 순위별로 정렬된 결과를 출력\n",
    "df = df[['state', 'Score', 'Rank']].sort_values(by='Rank')\n",
    "df"
   ]
  },
  {
   "cell_type": "markdown",
   "metadata": {},
   "source": [
    "- 결과 해석  \n",
    "AHP분석의 점수 결과는 0~1사이의 숫자로 표시된다. 따라서 일반적으로 0.5~1사이의 점수를 가진 선택안을 채택한다.  \n",
    "SP(상파울루주)가 0.71의 높은 점수로 최적 입지로 선정되었다.  \n",
    "2위 BA(바이아주), 3위 RJ(리우데자네이루주)도 지형적 위치와 지역 발달 정도를 고려해 볼 필요가 있음."
   ]
  }
 ],
 "metadata": {
  "kernelspec": {
   "display_name": "venv_marketing2024",
   "language": "python",
   "name": "python3"
  },
  "language_info": {
   "codemirror_mode": {
    "name": "ipython",
    "version": 3
   },
   "file_extension": ".py",
   "mimetype": "text/x-python",
   "name": "python",
   "nbconvert_exporter": "python",
   "pygments_lexer": "ipython3",
   "version": "3.12.3"
  }
 },
 "nbformat": 4,
 "nbformat_minor": 2
}
